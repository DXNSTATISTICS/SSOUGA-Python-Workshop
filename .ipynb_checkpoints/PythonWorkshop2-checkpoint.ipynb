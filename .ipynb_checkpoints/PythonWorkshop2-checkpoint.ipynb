{
 "cells": [
  {
   "cell_type": "code",
   "execution_count": 22,
   "id": "8a035147",
   "metadata": {},
   "outputs": [],
   "source": [
    "import pandas as pd\n",
    "import numpy as np\n",
    "import os as os"
   ]
  },
  {
   "cell_type": "code",
   "execution_count": 40,
   "id": "9b829ba9",
   "metadata": {},
   "outputs": [
    {
     "data": {
      "text/plain": [
       "'/Users/dixons/Desktop/Spring 2023/Python Workshop/SSOUGA-Python-Workshop'"
      ]
     },
     "execution_count": 40,
     "metadata": {},
     "output_type": "execute_result"
    }
   ],
   "source": [
    "os.getcwd()"
   ]
  },
  {
   "cell_type": "code",
   "execution_count": 39,
   "id": "b9e77a1e",
   "metadata": {},
   "outputs": [],
   "source": [
    "os.chdir('/Users/dixons/Desktop/Spring 2023/Python Workshop/SSOUGA-Python-Workshop')"
   ]
  },
  {
   "cell_type": "code",
   "execution_count": 42,
   "id": "b5f63312",
   "metadata": {},
   "outputs": [
    {
     "data": {
      "text/html": [
       "<div>\n",
       "<style scoped>\n",
       "    .dataframe tbody tr th:only-of-type {\n",
       "        vertical-align: middle;\n",
       "    }\n",
       "\n",
       "    .dataframe tbody tr th {\n",
       "        vertical-align: top;\n",
       "    }\n",
       "\n",
       "    .dataframe thead th {\n",
       "        text-align: right;\n",
       "    }\n",
       "</style>\n",
       "<table border=\"1\" class=\"dataframe\">\n",
       "  <thead>\n",
       "    <tr style=\"text-align: right;\">\n",
       "      <th></th>\n",
       "      <th>Rk</th>\n",
       "      <th>Player</th>\n",
       "      <th>G</th>\n",
       "      <th>GS</th>\n",
       "      <th>MP</th>\n",
       "      <th>FG</th>\n",
       "      <th>FGA</th>\n",
       "      <th>FG%</th>\n",
       "      <th>2P</th>\n",
       "      <th>2PA</th>\n",
       "      <th>...</th>\n",
       "      <th>ORB</th>\n",
       "      <th>DRB</th>\n",
       "      <th>TRB</th>\n",
       "      <th>AST</th>\n",
       "      <th>STL</th>\n",
       "      <th>BLK</th>\n",
       "      <th>TOV</th>\n",
       "      <th>PF</th>\n",
       "      <th>PTS</th>\n",
       "      <th>Player-additional</th>\n",
       "    </tr>\n",
       "  </thead>\n",
       "  <tbody>\n",
       "    <tr>\n",
       "      <th>0</th>\n",
       "      <td>1.0</td>\n",
       "      <td>Primo Spears</td>\n",
       "      <td>21</td>\n",
       "      <td>21.0</td>\n",
       "      <td>784</td>\n",
       "      <td>134</td>\n",
       "      <td>313</td>\n",
       "      <td>0.428</td>\n",
       "      <td>120</td>\n",
       "      <td>259</td>\n",
       "      <td>...</td>\n",
       "      <td>15</td>\n",
       "      <td>57</td>\n",
       "      <td>72</td>\n",
       "      <td>116</td>\n",
       "      <td>25</td>\n",
       "      <td>0</td>\n",
       "      <td>73</td>\n",
       "      <td>36</td>\n",
       "      <td>352</td>\n",
       "      <td>amir-spears-1</td>\n",
       "    </tr>\n",
       "    <tr>\n",
       "      <th>1</th>\n",
       "      <td>2.0</td>\n",
       "      <td>Brandon Murray</td>\n",
       "      <td>16</td>\n",
       "      <td>16.0</td>\n",
       "      <td>554</td>\n",
       "      <td>87</td>\n",
       "      <td>203</td>\n",
       "      <td>0.429</td>\n",
       "      <td>65</td>\n",
       "      <td>142</td>\n",
       "      <td>...</td>\n",
       "      <td>14</td>\n",
       "      <td>42</td>\n",
       "      <td>56</td>\n",
       "      <td>56</td>\n",
       "      <td>21</td>\n",
       "      <td>9</td>\n",
       "      <td>43</td>\n",
       "      <td>36</td>\n",
       "      <td>232</td>\n",
       "      <td>brandon-murray-1</td>\n",
       "    </tr>\n",
       "    <tr>\n",
       "      <th>2</th>\n",
       "      <td>3.0</td>\n",
       "      <td>Qudus Wahab</td>\n",
       "      <td>21</td>\n",
       "      <td>21.0</td>\n",
       "      <td>507</td>\n",
       "      <td>71</td>\n",
       "      <td>141</td>\n",
       "      <td>0.504</td>\n",
       "      <td>71</td>\n",
       "      <td>140</td>\n",
       "      <td>...</td>\n",
       "      <td>63</td>\n",
       "      <td>92</td>\n",
       "      <td>155</td>\n",
       "      <td>5</td>\n",
       "      <td>13</td>\n",
       "      <td>16</td>\n",
       "      <td>28</td>\n",
       "      <td>52</td>\n",
       "      <td>209</td>\n",
       "      <td>qudus-wahab-1</td>\n",
       "    </tr>\n",
       "    <tr>\n",
       "      <th>3</th>\n",
       "      <td>4.0</td>\n",
       "      <td>Akok Akok</td>\n",
       "      <td>21</td>\n",
       "      <td>21.0</td>\n",
       "      <td>685</td>\n",
       "      <td>64</td>\n",
       "      <td>135</td>\n",
       "      <td>0.474</td>\n",
       "      <td>45</td>\n",
       "      <td>69</td>\n",
       "      <td>...</td>\n",
       "      <td>35</td>\n",
       "      <td>110</td>\n",
       "      <td>145</td>\n",
       "      <td>23</td>\n",
       "      <td>13</td>\n",
       "      <td>41</td>\n",
       "      <td>30</td>\n",
       "      <td>41</td>\n",
       "      <td>163</td>\n",
       "      <td>akok-akok-1</td>\n",
       "    </tr>\n",
       "    <tr>\n",
       "      <th>4</th>\n",
       "      <td>5.0</td>\n",
       "      <td>Jay Heath</td>\n",
       "      <td>12</td>\n",
       "      <td>11.0</td>\n",
       "      <td>402</td>\n",
       "      <td>59</td>\n",
       "      <td>133</td>\n",
       "      <td>0.444</td>\n",
       "      <td>39</td>\n",
       "      <td>81</td>\n",
       "      <td>...</td>\n",
       "      <td>6</td>\n",
       "      <td>43</td>\n",
       "      <td>49</td>\n",
       "      <td>18</td>\n",
       "      <td>13</td>\n",
       "      <td>1</td>\n",
       "      <td>16</td>\n",
       "      <td>24</td>\n",
       "      <td>161</td>\n",
       "      <td>jay-heath-1</td>\n",
       "    </tr>\n",
       "    <tr>\n",
       "      <th>5</th>\n",
       "      <td>6.0</td>\n",
       "      <td>Bryson Mozone</td>\n",
       "      <td>20</td>\n",
       "      <td>7.0</td>\n",
       "      <td>408</td>\n",
       "      <td>46</td>\n",
       "      <td>119</td>\n",
       "      <td>0.387</td>\n",
       "      <td>25</td>\n",
       "      <td>52</td>\n",
       "      <td>...</td>\n",
       "      <td>15</td>\n",
       "      <td>57</td>\n",
       "      <td>72</td>\n",
       "      <td>9</td>\n",
       "      <td>8</td>\n",
       "      <td>4</td>\n",
       "      <td>15</td>\n",
       "      <td>30</td>\n",
       "      <td>129</td>\n",
       "      <td>bryson-mozone-1</td>\n",
       "    </tr>\n",
       "    <tr>\n",
       "      <th>6</th>\n",
       "      <td>7.0</td>\n",
       "      <td>Jordan Riley</td>\n",
       "      <td>16</td>\n",
       "      <td>5.0</td>\n",
       "      <td>270</td>\n",
       "      <td>37</td>\n",
       "      <td>78</td>\n",
       "      <td>0.474</td>\n",
       "      <td>31</td>\n",
       "      <td>59</td>\n",
       "      <td>...</td>\n",
       "      <td>15</td>\n",
       "      <td>32</td>\n",
       "      <td>47</td>\n",
       "      <td>6</td>\n",
       "      <td>10</td>\n",
       "      <td>5</td>\n",
       "      <td>22</td>\n",
       "      <td>19</td>\n",
       "      <td>99</td>\n",
       "      <td>jordan-riley-1</td>\n",
       "    </tr>\n",
       "    <tr>\n",
       "      <th>7</th>\n",
       "      <td>8.0</td>\n",
       "      <td>Wayne Bristol</td>\n",
       "      <td>20</td>\n",
       "      <td>3.0</td>\n",
       "      <td>286</td>\n",
       "      <td>26</td>\n",
       "      <td>58</td>\n",
       "      <td>0.448</td>\n",
       "      <td>13</td>\n",
       "      <td>23</td>\n",
       "      <td>...</td>\n",
       "      <td>18</td>\n",
       "      <td>19</td>\n",
       "      <td>37</td>\n",
       "      <td>10</td>\n",
       "      <td>10</td>\n",
       "      <td>7</td>\n",
       "      <td>13</td>\n",
       "      <td>31</td>\n",
       "      <td>80</td>\n",
       "      <td>wayne-bristoljr-1</td>\n",
       "    </tr>\n",
       "    <tr>\n",
       "      <th>8</th>\n",
       "      <td>9.0</td>\n",
       "      <td>Bradley Ezewiro</td>\n",
       "      <td>16</td>\n",
       "      <td>0.0</td>\n",
       "      <td>165</td>\n",
       "      <td>19</td>\n",
       "      <td>41</td>\n",
       "      <td>0.463</td>\n",
       "      <td>19</td>\n",
       "      <td>41</td>\n",
       "      <td>...</td>\n",
       "      <td>17</td>\n",
       "      <td>29</td>\n",
       "      <td>46</td>\n",
       "      <td>2</td>\n",
       "      <td>4</td>\n",
       "      <td>10</td>\n",
       "      <td>7</td>\n",
       "      <td>25</td>\n",
       "      <td>53</td>\n",
       "      <td>bradley-ezewiro-1</td>\n",
       "    </tr>\n",
       "    <tr>\n",
       "      <th>9</th>\n",
       "      <td>10.0</td>\n",
       "      <td>Denver Anglin</td>\n",
       "      <td>16</td>\n",
       "      <td>0.0</td>\n",
       "      <td>118</td>\n",
       "      <td>8</td>\n",
       "      <td>34</td>\n",
       "      <td>0.235</td>\n",
       "      <td>3</td>\n",
       "      <td>7</td>\n",
       "      <td>...</td>\n",
       "      <td>1</td>\n",
       "      <td>7</td>\n",
       "      <td>8</td>\n",
       "      <td>8</td>\n",
       "      <td>2</td>\n",
       "      <td>0</td>\n",
       "      <td>5</td>\n",
       "      <td>10</td>\n",
       "      <td>23</td>\n",
       "      <td>denver-anglin-1</td>\n",
       "    </tr>\n",
       "    <tr>\n",
       "      <th>10</th>\n",
       "      <td>11.0</td>\n",
       "      <td>Ryan Mutombo</td>\n",
       "      <td>7</td>\n",
       "      <td>0.0</td>\n",
       "      <td>33</td>\n",
       "      <td>7</td>\n",
       "      <td>9</td>\n",
       "      <td>0.778</td>\n",
       "      <td>7</td>\n",
       "      <td>9</td>\n",
       "      <td>...</td>\n",
       "      <td>5</td>\n",
       "      <td>9</td>\n",
       "      <td>14</td>\n",
       "      <td>0</td>\n",
       "      <td>0</td>\n",
       "      <td>4</td>\n",
       "      <td>1</td>\n",
       "      <td>4</td>\n",
       "      <td>15</td>\n",
       "      <td>ryan-mutombo-1</td>\n",
       "    </tr>\n",
       "    <tr>\n",
       "      <th>11</th>\n",
       "      <td>12.0</td>\n",
       "      <td>D'Ante Bass</td>\n",
       "      <td>6</td>\n",
       "      <td>0.0</td>\n",
       "      <td>24</td>\n",
       "      <td>1</td>\n",
       "      <td>3</td>\n",
       "      <td>0.333</td>\n",
       "      <td>1</td>\n",
       "      <td>3</td>\n",
       "      <td>...</td>\n",
       "      <td>2</td>\n",
       "      <td>1</td>\n",
       "      <td>3</td>\n",
       "      <td>2</td>\n",
       "      <td>1</td>\n",
       "      <td>1</td>\n",
       "      <td>0</td>\n",
       "      <td>1</td>\n",
       "      <td>2</td>\n",
       "      <td>dante-bass-1</td>\n",
       "    </tr>\n",
       "    <tr>\n",
       "      <th>12</th>\n",
       "      <td>13.0</td>\n",
       "      <td>Malcolm Wilson</td>\n",
       "      <td>6</td>\n",
       "      <td>0.0</td>\n",
       "      <td>12</td>\n",
       "      <td>0</td>\n",
       "      <td>3</td>\n",
       "      <td>0.000</td>\n",
       "      <td>0</td>\n",
       "      <td>3</td>\n",
       "      <td>...</td>\n",
       "      <td>4</td>\n",
       "      <td>2</td>\n",
       "      <td>6</td>\n",
       "      <td>0</td>\n",
       "      <td>0</td>\n",
       "      <td>0</td>\n",
       "      <td>0</td>\n",
       "      <td>3</td>\n",
       "      <td>1</td>\n",
       "      <td>malcolm-wilson-1</td>\n",
       "    </tr>\n",
       "    <tr>\n",
       "      <th>13</th>\n",
       "      <td>14.0</td>\n",
       "      <td>Victor Muresan</td>\n",
       "      <td>1</td>\n",
       "      <td>0.0</td>\n",
       "      <td>1</td>\n",
       "      <td>0</td>\n",
       "      <td>1</td>\n",
       "      <td>0.000</td>\n",
       "      <td>0</td>\n",
       "      <td>1</td>\n",
       "      <td>...</td>\n",
       "      <td>0</td>\n",
       "      <td>0</td>\n",
       "      <td>0</td>\n",
       "      <td>0</td>\n",
       "      <td>0</td>\n",
       "      <td>0</td>\n",
       "      <td>0</td>\n",
       "      <td>0</td>\n",
       "      <td>0</td>\n",
       "      <td>victor-muresan-1</td>\n",
       "    </tr>\n",
       "    <tr>\n",
       "      <th>14</th>\n",
       "      <td>NaN</td>\n",
       "      <td>School Totals</td>\n",
       "      <td>21</td>\n",
       "      <td>NaN</td>\n",
       "      <td>4250</td>\n",
       "      <td>559</td>\n",
       "      <td>1271</td>\n",
       "      <td>0.440</td>\n",
       "      <td>439</td>\n",
       "      <td>889</td>\n",
       "      <td>...</td>\n",
       "      <td>239</td>\n",
       "      <td>528</td>\n",
       "      <td>767</td>\n",
       "      <td>255</td>\n",
       "      <td>120</td>\n",
       "      <td>98</td>\n",
       "      <td>262</td>\n",
       "      <td>312</td>\n",
       "      <td>1519</td>\n",
       "      <td>-9999</td>\n",
       "    </tr>\n",
       "  </tbody>\n",
       "</table>\n",
       "<p>15 rows × 27 columns</p>\n",
       "</div>"
      ],
      "text/plain": [
       "      Rk           Player   G    GS    MP   FG   FGA    FG%   2P  2PA  ...  \\\n",
       "0    1.0     Primo Spears  21  21.0   784  134   313  0.428  120  259  ...   \n",
       "1    2.0   Brandon Murray  16  16.0   554   87   203  0.429   65  142  ...   \n",
       "2    3.0      Qudus Wahab  21  21.0   507   71   141  0.504   71  140  ...   \n",
       "3    4.0        Akok Akok  21  21.0   685   64   135  0.474   45   69  ...   \n",
       "4    5.0        Jay Heath  12  11.0   402   59   133  0.444   39   81  ...   \n",
       "5    6.0    Bryson Mozone  20   7.0   408   46   119  0.387   25   52  ...   \n",
       "6    7.0     Jordan Riley  16   5.0   270   37    78  0.474   31   59  ...   \n",
       "7    8.0    Wayne Bristol  20   3.0   286   26    58  0.448   13   23  ...   \n",
       "8    9.0  Bradley Ezewiro  16   0.0   165   19    41  0.463   19   41  ...   \n",
       "9   10.0    Denver Anglin  16   0.0   118    8    34  0.235    3    7  ...   \n",
       "10  11.0     Ryan Mutombo   7   0.0    33    7     9  0.778    7    9  ...   \n",
       "11  12.0      D'Ante Bass   6   0.0    24    1     3  0.333    1    3  ...   \n",
       "12  13.0   Malcolm Wilson   6   0.0    12    0     3  0.000    0    3  ...   \n",
       "13  14.0   Victor Muresan   1   0.0     1    0     1  0.000    0    1  ...   \n",
       "14   NaN    School Totals  21   NaN  4250  559  1271  0.440  439  889  ...   \n",
       "\n",
       "    ORB  DRB  TRB  AST  STL  BLK  TOV   PF   PTS  Player-additional  \n",
       "0    15   57   72  116   25    0   73   36   352      amir-spears-1  \n",
       "1    14   42   56   56   21    9   43   36   232   brandon-murray-1  \n",
       "2    63   92  155    5   13   16   28   52   209      qudus-wahab-1  \n",
       "3    35  110  145   23   13   41   30   41   163        akok-akok-1  \n",
       "4     6   43   49   18   13    1   16   24   161        jay-heath-1  \n",
       "5    15   57   72    9    8    4   15   30   129    bryson-mozone-1  \n",
       "6    15   32   47    6   10    5   22   19    99     jordan-riley-1  \n",
       "7    18   19   37   10   10    7   13   31    80  wayne-bristoljr-1  \n",
       "8    17   29   46    2    4   10    7   25    53  bradley-ezewiro-1  \n",
       "9     1    7    8    8    2    0    5   10    23    denver-anglin-1  \n",
       "10    5    9   14    0    0    4    1    4    15     ryan-mutombo-1  \n",
       "11    2    1    3    2    1    1    0    1     2       dante-bass-1  \n",
       "12    4    2    6    0    0    0    0    3     1   malcolm-wilson-1  \n",
       "13    0    0    0    0    0    0    0    0     0   victor-muresan-1  \n",
       "14  239  528  767  255  120   98  262  312  1519              -9999  \n",
       "\n",
       "[15 rows x 27 columns]"
      ]
     },
     "execution_count": 42,
     "metadata": {},
     "output_type": "execute_result"
    }
   ],
   "source": [
    "#data = pd.read_csv('/Users/dixons/Desktop/Spring 2023/Python Workshop/SSOUGA-Python-Workshop/ReferenceBasketball.csv')\n",
    "\n",
    "data = pd.read_csv('ReferenceBasketball.csv')\n",
    "\n",
    "data"
   ]
  },
  {
   "cell_type": "code",
   "execution_count": null,
   "id": "7e796479",
   "metadata": {},
   "outputs": [],
   "source": [
    "print(data)"
   ]
  },
  {
   "cell_type": "markdown",
   "id": "a3759fb9",
   "metadata": {},
   "source": [
    "------------------"
   ]
  },
  {
   "cell_type": "markdown",
   "id": "e77fbf58",
   "metadata": {},
   "source": [
    "**IMPORTANT SIDE NOTE**\n",
    "\n",
    "I googled \"view entire dataframe pandas\" and found this function on:  **Stack Overflow**"
   ]
  },
  {
   "cell_type": "markdown",
   "id": "c162e0a8",
   "metadata": {},
   "source": [
    "---------------------"
   ]
  },
  {
   "cell_type": "code",
   "execution_count": null,
   "id": "9715ced5",
   "metadata": {},
   "outputs": [],
   "source": [
    " # more options can be specified also\n",
    "    \n",
    "with pd.option_context('display.max_rows', None, 'display.max_columns', None): \n",
    "    print(data)"
   ]
  },
  {
   "cell_type": "markdown",
   "id": "c1720201",
   "metadata": {},
   "source": [
    "# 1. The pd.DataFrame() Function"
   ]
  },
  {
   "cell_type": "code",
   "execution_count": null,
   "id": "a086dede",
   "metadata": {},
   "outputs": [],
   "source": [
    "type(data)"
   ]
  },
  {
   "cell_type": "code",
   "execution_count": null,
   "id": "15a62f32",
   "metadata": {},
   "outputs": [],
   "source": [
    "df = pd.DataFrame({'A': [1, 2, 3],\n",
    "                  'B': [4,5,6],\n",
    "                  'C': [7,8,9]})\n",
    "print(df)"
   ]
  },
  {
   "cell_type": "code",
   "execution_count": null,
   "id": "38133dc1",
   "metadata": {},
   "outputs": [],
   "source": [
    "df"
   ]
  },
  {
   "cell_type": "code",
   "execution_count": null,
   "id": "0e781eb2",
   "metadata": {},
   "outputs": [],
   "source": [
    "df['A']"
   ]
  },
  {
   "cell_type": "code",
   "execution_count": null,
   "id": "1a551d8c",
   "metadata": {},
   "outputs": [],
   "source": [
    "type(df['A'])"
   ]
  },
  {
   "cell_type": "code",
   "execution_count": null,
   "id": "81e14b6d",
   "metadata": {},
   "outputs": [],
   "source": [
    "df = pd.DataFrame(\n",
    "[[4, 7, 10],\n",
    "[5, 8, 11],\n",
    "[6, 9, 12]],\n",
    "index=['a', 2, 3],\n",
    "columns=['a', 'b', 'c'])\n",
    "df"
   ]
  },
  {
   "cell_type": "code",
   "execution_count": null,
   "id": "a3574b2e",
   "metadata": {},
   "outputs": [],
   "source": [
    "df[['a','b']]"
   ]
  },
  {
   "cell_type": "markdown",
   "id": "b2b67004",
   "metadata": {},
   "source": [
    "# Dictionaries, Lists"
   ]
  },
  {
   "cell_type": "code",
   "execution_count": 2,
   "id": "51a559cc",
   "metadata": {},
   "outputs": [
    {
     "name": "stdout",
     "output_type": "stream",
     "text": [
      "<class 'dict'> <class 'dict'>\n"
     ]
    }
   ],
   "source": [
    "Diction = {}\n",
    "Diction1 = dict()\n",
    "\n",
    "print(type(Diction),type(Diction1))"
   ]
  },
  {
   "cell_type": "code",
   "execution_count": 3,
   "id": "7e5ad869",
   "metadata": {},
   "outputs": [
    {
     "name": "stdout",
     "output_type": "stream",
     "text": [
      "<class 'list'> <class 'list'>\n"
     ]
    }
   ],
   "source": [
    "list1 = []\n",
    "list2 = list()\n",
    "\n",
    "print(type(list1),type(list2))"
   ]
  },
  {
   "cell_type": "code",
   "execution_count": 4,
   "id": "0c86d3db",
   "metadata": {},
   "outputs": [
    {
     "name": "stdout",
     "output_type": "stream",
     "text": [
      "<class 'tuple'> <class 'tuple'>\n"
     ]
    }
   ],
   "source": [
    "tuple1 = ()\n",
    "tuple2 = tuple()\n",
    "\n",
    "print(type(tuple1),type(tuple2))"
   ]
  },
  {
   "cell_type": "code",
   "execution_count": 5,
   "id": "d63ef0b0",
   "metadata": {},
   "outputs": [
    {
     "name": "stdout",
     "output_type": "stream",
     "text": [
      "<class 'set'> <class 'set'>\n"
     ]
    }
   ],
   "source": [
    "set1 = {1,2,3,4,53253,555,6}\n",
    "set2 = set()\n",
    "\n",
    "print(type(set1),type(set2))"
   ]
  },
  {
   "cell_type": "code",
   "execution_count": 6,
   "id": "0fe6c94e",
   "metadata": {},
   "outputs": [
    {
     "data": {
      "text/plain": [
       "{1, 2, 3, 4, 6, 555, 53253}"
      ]
     },
     "execution_count": 6,
     "metadata": {},
     "output_type": "execute_result"
    }
   ],
   "source": [
    "set1"
   ]
  },
  {
   "cell_type": "code",
   "execution_count": 9,
   "id": "f2cef3e3",
   "metadata": {},
   "outputs": [],
   "source": [
    "dict1 = {'Key1': [\"Bannana\", 3 ,55,[1,2,3]],\n",
    "        'KeySquare': ['what', 3, {'Orange': ['you','glad']}],\n",
    "        3: [3,4,5,]}"
   ]
  },
  {
   "cell_type": "code",
   "execution_count": 10,
   "id": "da5686e4",
   "metadata": {},
   "outputs": [
    {
     "data": {
      "text/plain": [
       "{'Key1': ['Bannana', 3, 55, [1, 2, 3]],\n",
       " 'KeySquare': ['what', 3, {'Orange': ['you', 'glad']}],\n",
       " 3: [3, 4, 5]}"
      ]
     },
     "execution_count": 10,
     "metadata": {},
     "output_type": "execute_result"
    }
   ],
   "source": [
    "dict1"
   ]
  },
  {
   "cell_type": "code",
   "execution_count": 11,
   "id": "72387284",
   "metadata": {},
   "outputs": [
    {
     "data": {
      "text/plain": [
       "dict_keys(['Key1', 'KeySquare', 3])"
      ]
     },
     "execution_count": 11,
     "metadata": {},
     "output_type": "execute_result"
    }
   ],
   "source": [
    "dict1.keys()"
   ]
  },
  {
   "cell_type": "code",
   "execution_count": 18,
   "id": "f8f3ac0a",
   "metadata": {},
   "outputs": [
    {
     "data": {
      "text/plain": [
       "dict_keys(['Orange'])"
      ]
     },
     "execution_count": 18,
     "metadata": {},
     "output_type": "execute_result"
    }
   ],
   "source": [
    "dict1['KeySquare']"
   ]
  },
  {
   "cell_type": "code",
   "execution_count": 19,
   "id": "11330d97",
   "metadata": {},
   "outputs": [
    {
     "data": {
      "text/plain": [
       "{'Orange': ['you', 'glad']}"
      ]
     },
     "execution_count": 19,
     "metadata": {},
     "output_type": "execute_result"
    }
   ],
   "source": [
    "dict1['KeySquare'][2]"
   ]
  },
  {
   "cell_type": "code",
   "execution_count": 20,
   "id": "2a15e87a",
   "metadata": {},
   "outputs": [
    {
     "data": {
      "text/plain": [
       "dict_keys(['Orange'])"
      ]
     },
     "execution_count": 20,
     "metadata": {},
     "output_type": "execute_result"
    }
   ],
   "source": [
    "dict1['KeySquare'][2].keys()"
   ]
  },
  {
   "cell_type": "markdown",
   "id": "3fc94920",
   "metadata": {},
   "source": [
    "## Locating Rows"
   ]
  },
  {
   "cell_type": "markdown",
   "id": "425a6c06",
   "metadata": {},
   "source": [
    "### By Index"
   ]
  },
  {
   "cell_type": "code",
   "execution_count": null,
   "id": "8b1498b0",
   "metadata": {},
   "outputs": [],
   "source": [
    "df.iloc[0]"
   ]
  },
  {
   "cell_type": "markdown",
   "id": "0371dab7",
   "metadata": {},
   "source": [
    "### By Label"
   ]
  },
  {
   "cell_type": "code",
   "execution_count": null,
   "id": "c130f652",
   "metadata": {},
   "outputs": [],
   "source": [
    "#df.iloc['a']\n",
    "df.loc['a']"
   ]
  },
  {
   "cell_type": "code",
   "execution_count": null,
   "id": "23cc4da8",
   "metadata": {},
   "outputs": [],
   "source": [
    "data"
   ]
  },
  {
   "cell_type": "markdown",
   "id": "7a361253",
   "metadata": {},
   "source": [
    "# Pandas Methods"
   ]
  },
  {
   "cell_type": "code",
   "execution_count": null,
   "id": "4c231ef5",
   "metadata": {},
   "outputs": [],
   "source": [
    "df"
   ]
  },
  {
   "cell_type": "code",
   "execution_count": null,
   "id": "d137e811",
   "metadata": {},
   "outputs": [],
   "source": [
    "df['a'].mean()"
   ]
  },
  {
   "cell_type": "code",
   "execution_count": null,
   "id": "f8e9a951",
   "metadata": {},
   "outputs": [],
   "source": [
    "df.loc['a'].mean()"
   ]
  },
  {
   "cell_type": "code",
   "execution_count": null,
   "id": "844d36fa",
   "metadata": {},
   "outputs": [],
   "source": [
    "df['a'].std()\n"
   ]
  },
  {
   "cell_type": "code",
   "execution_count": null,
   "id": "fc787d2b",
   "metadata": {},
   "outputs": [],
   "source": [
    "df['a'].sum()"
   ]
  },
  {
   "cell_type": "code",
   "execution_count": null,
   "id": "db1d356f",
   "metadata": {},
   "outputs": [],
   "source": [
    "df.sum()"
   ]
  },
  {
   "cell_type": "code",
   "execution_count": null,
   "id": "297eb75a",
   "metadata": {},
   "outputs": [],
   "source": [
    "df.sum().mean()"
   ]
  },
  {
   "cell_type": "code",
   "execution_count": null,
   "id": "ffa6a111",
   "metadata": {},
   "outputs": [],
   "source": [
    "df.mean().sum()"
   ]
  },
  {
   "cell_type": "code",
   "execution_count": null,
   "id": "8dd26417",
   "metadata": {},
   "outputs": [],
   "source": [
    "data.isnull().sum()"
   ]
  },
  {
   "cell_type": "code",
   "execution_count": null,
   "id": "c0002488",
   "metadata": {},
   "outputs": [],
   "source": [
    "data1 = data\n",
    "data = data.dropna()"
   ]
  },
  {
   "cell_type": "code",
   "execution_count": null,
   "id": "d385c307",
   "metadata": {},
   "outputs": [],
   "source": [
    "data.isnull().sum()"
   ]
  },
  {
   "cell_type": "code",
   "execution_count": null,
   "id": "ed707eb7",
   "metadata": {},
   "outputs": [],
   "source": [
    "data"
   ]
  },
  {
   "cell_type": "code",
   "execution_count": null,
   "id": "c6163cfc",
   "metadata": {},
   "outputs": [],
   "source": [
    "data1 = data1.fillna('ORANGE')"
   ]
  },
  {
   "cell_type": "code",
   "execution_count": null,
   "id": "4c7c3717",
   "metadata": {},
   "outputs": [],
   "source": [
    "data1"
   ]
  },
  {
   "cell_type": "markdown",
   "id": "c907aab5",
   "metadata": {},
   "source": [
    "# Boolean Mask"
   ]
  },
  {
   "cell_type": "code",
   "execution_count": 43,
   "id": "2a0247c3",
   "metadata": {},
   "outputs": [
    {
     "data": {
      "text/html": [
       "<div>\n",
       "<style scoped>\n",
       "    .dataframe tbody tr th:only-of-type {\n",
       "        vertical-align: middle;\n",
       "    }\n",
       "\n",
       "    .dataframe tbody tr th {\n",
       "        vertical-align: top;\n",
       "    }\n",
       "\n",
       "    .dataframe thead th {\n",
       "        text-align: right;\n",
       "    }\n",
       "</style>\n",
       "<table border=\"1\" class=\"dataframe\">\n",
       "  <thead>\n",
       "    <tr style=\"text-align: right;\">\n",
       "      <th></th>\n",
       "      <th>Rk</th>\n",
       "      <th>Player</th>\n",
       "      <th>G</th>\n",
       "      <th>GS</th>\n",
       "      <th>MP</th>\n",
       "      <th>FG</th>\n",
       "      <th>FGA</th>\n",
       "      <th>FG%</th>\n",
       "      <th>2P</th>\n",
       "      <th>2PA</th>\n",
       "      <th>...</th>\n",
       "      <th>ORB</th>\n",
       "      <th>DRB</th>\n",
       "      <th>TRB</th>\n",
       "      <th>AST</th>\n",
       "      <th>STL</th>\n",
       "      <th>BLK</th>\n",
       "      <th>TOV</th>\n",
       "      <th>PF</th>\n",
       "      <th>PTS</th>\n",
       "      <th>Player-additional</th>\n",
       "    </tr>\n",
       "  </thead>\n",
       "  <tbody>\n",
       "    <tr>\n",
       "      <th>0</th>\n",
       "      <td>1.0</td>\n",
       "      <td>Primo Spears</td>\n",
       "      <td>21</td>\n",
       "      <td>21.0</td>\n",
       "      <td>784</td>\n",
       "      <td>134</td>\n",
       "      <td>313</td>\n",
       "      <td>0.428</td>\n",
       "      <td>120</td>\n",
       "      <td>259</td>\n",
       "      <td>...</td>\n",
       "      <td>15</td>\n",
       "      <td>57</td>\n",
       "      <td>72</td>\n",
       "      <td>116</td>\n",
       "      <td>25</td>\n",
       "      <td>0</td>\n",
       "      <td>73</td>\n",
       "      <td>36</td>\n",
       "      <td>352</td>\n",
       "      <td>amir-spears-1</td>\n",
       "    </tr>\n",
       "    <tr>\n",
       "      <th>1</th>\n",
       "      <td>2.0</td>\n",
       "      <td>Brandon Murray</td>\n",
       "      <td>16</td>\n",
       "      <td>16.0</td>\n",
       "      <td>554</td>\n",
       "      <td>87</td>\n",
       "      <td>203</td>\n",
       "      <td>0.429</td>\n",
       "      <td>65</td>\n",
       "      <td>142</td>\n",
       "      <td>...</td>\n",
       "      <td>14</td>\n",
       "      <td>42</td>\n",
       "      <td>56</td>\n",
       "      <td>56</td>\n",
       "      <td>21</td>\n",
       "      <td>9</td>\n",
       "      <td>43</td>\n",
       "      <td>36</td>\n",
       "      <td>232</td>\n",
       "      <td>brandon-murray-1</td>\n",
       "    </tr>\n",
       "    <tr>\n",
       "      <th>2</th>\n",
       "      <td>3.0</td>\n",
       "      <td>Qudus Wahab</td>\n",
       "      <td>21</td>\n",
       "      <td>21.0</td>\n",
       "      <td>507</td>\n",
       "      <td>71</td>\n",
       "      <td>141</td>\n",
       "      <td>0.504</td>\n",
       "      <td>71</td>\n",
       "      <td>140</td>\n",
       "      <td>...</td>\n",
       "      <td>63</td>\n",
       "      <td>92</td>\n",
       "      <td>155</td>\n",
       "      <td>5</td>\n",
       "      <td>13</td>\n",
       "      <td>16</td>\n",
       "      <td>28</td>\n",
       "      <td>52</td>\n",
       "      <td>209</td>\n",
       "      <td>qudus-wahab-1</td>\n",
       "    </tr>\n",
       "    <tr>\n",
       "      <th>3</th>\n",
       "      <td>4.0</td>\n",
       "      <td>Akok Akok</td>\n",
       "      <td>21</td>\n",
       "      <td>21.0</td>\n",
       "      <td>685</td>\n",
       "      <td>64</td>\n",
       "      <td>135</td>\n",
       "      <td>0.474</td>\n",
       "      <td>45</td>\n",
       "      <td>69</td>\n",
       "      <td>...</td>\n",
       "      <td>35</td>\n",
       "      <td>110</td>\n",
       "      <td>145</td>\n",
       "      <td>23</td>\n",
       "      <td>13</td>\n",
       "      <td>41</td>\n",
       "      <td>30</td>\n",
       "      <td>41</td>\n",
       "      <td>163</td>\n",
       "      <td>akok-akok-1</td>\n",
       "    </tr>\n",
       "    <tr>\n",
       "      <th>4</th>\n",
       "      <td>5.0</td>\n",
       "      <td>Jay Heath</td>\n",
       "      <td>12</td>\n",
       "      <td>11.0</td>\n",
       "      <td>402</td>\n",
       "      <td>59</td>\n",
       "      <td>133</td>\n",
       "      <td>0.444</td>\n",
       "      <td>39</td>\n",
       "      <td>81</td>\n",
       "      <td>...</td>\n",
       "      <td>6</td>\n",
       "      <td>43</td>\n",
       "      <td>49</td>\n",
       "      <td>18</td>\n",
       "      <td>13</td>\n",
       "      <td>1</td>\n",
       "      <td>16</td>\n",
       "      <td>24</td>\n",
       "      <td>161</td>\n",
       "      <td>jay-heath-1</td>\n",
       "    </tr>\n",
       "    <tr>\n",
       "      <th>5</th>\n",
       "      <td>6.0</td>\n",
       "      <td>Bryson Mozone</td>\n",
       "      <td>20</td>\n",
       "      <td>7.0</td>\n",
       "      <td>408</td>\n",
       "      <td>46</td>\n",
       "      <td>119</td>\n",
       "      <td>0.387</td>\n",
       "      <td>25</td>\n",
       "      <td>52</td>\n",
       "      <td>...</td>\n",
       "      <td>15</td>\n",
       "      <td>57</td>\n",
       "      <td>72</td>\n",
       "      <td>9</td>\n",
       "      <td>8</td>\n",
       "      <td>4</td>\n",
       "      <td>15</td>\n",
       "      <td>30</td>\n",
       "      <td>129</td>\n",
       "      <td>bryson-mozone-1</td>\n",
       "    </tr>\n",
       "    <tr>\n",
       "      <th>6</th>\n",
       "      <td>7.0</td>\n",
       "      <td>Jordan Riley</td>\n",
       "      <td>16</td>\n",
       "      <td>5.0</td>\n",
       "      <td>270</td>\n",
       "      <td>37</td>\n",
       "      <td>78</td>\n",
       "      <td>0.474</td>\n",
       "      <td>31</td>\n",
       "      <td>59</td>\n",
       "      <td>...</td>\n",
       "      <td>15</td>\n",
       "      <td>32</td>\n",
       "      <td>47</td>\n",
       "      <td>6</td>\n",
       "      <td>10</td>\n",
       "      <td>5</td>\n",
       "      <td>22</td>\n",
       "      <td>19</td>\n",
       "      <td>99</td>\n",
       "      <td>jordan-riley-1</td>\n",
       "    </tr>\n",
       "    <tr>\n",
       "      <th>7</th>\n",
       "      <td>8.0</td>\n",
       "      <td>Wayne Bristol</td>\n",
       "      <td>20</td>\n",
       "      <td>3.0</td>\n",
       "      <td>286</td>\n",
       "      <td>26</td>\n",
       "      <td>58</td>\n",
       "      <td>0.448</td>\n",
       "      <td>13</td>\n",
       "      <td>23</td>\n",
       "      <td>...</td>\n",
       "      <td>18</td>\n",
       "      <td>19</td>\n",
       "      <td>37</td>\n",
       "      <td>10</td>\n",
       "      <td>10</td>\n",
       "      <td>7</td>\n",
       "      <td>13</td>\n",
       "      <td>31</td>\n",
       "      <td>80</td>\n",
       "      <td>wayne-bristoljr-1</td>\n",
       "    </tr>\n",
       "    <tr>\n",
       "      <th>8</th>\n",
       "      <td>9.0</td>\n",
       "      <td>Bradley Ezewiro</td>\n",
       "      <td>16</td>\n",
       "      <td>0.0</td>\n",
       "      <td>165</td>\n",
       "      <td>19</td>\n",
       "      <td>41</td>\n",
       "      <td>0.463</td>\n",
       "      <td>19</td>\n",
       "      <td>41</td>\n",
       "      <td>...</td>\n",
       "      <td>17</td>\n",
       "      <td>29</td>\n",
       "      <td>46</td>\n",
       "      <td>2</td>\n",
       "      <td>4</td>\n",
       "      <td>10</td>\n",
       "      <td>7</td>\n",
       "      <td>25</td>\n",
       "      <td>53</td>\n",
       "      <td>bradley-ezewiro-1</td>\n",
       "    </tr>\n",
       "    <tr>\n",
       "      <th>9</th>\n",
       "      <td>10.0</td>\n",
       "      <td>Denver Anglin</td>\n",
       "      <td>16</td>\n",
       "      <td>0.0</td>\n",
       "      <td>118</td>\n",
       "      <td>8</td>\n",
       "      <td>34</td>\n",
       "      <td>0.235</td>\n",
       "      <td>3</td>\n",
       "      <td>7</td>\n",
       "      <td>...</td>\n",
       "      <td>1</td>\n",
       "      <td>7</td>\n",
       "      <td>8</td>\n",
       "      <td>8</td>\n",
       "      <td>2</td>\n",
       "      <td>0</td>\n",
       "      <td>5</td>\n",
       "      <td>10</td>\n",
       "      <td>23</td>\n",
       "      <td>denver-anglin-1</td>\n",
       "    </tr>\n",
       "    <tr>\n",
       "      <th>10</th>\n",
       "      <td>11.0</td>\n",
       "      <td>Ryan Mutombo</td>\n",
       "      <td>7</td>\n",
       "      <td>0.0</td>\n",
       "      <td>33</td>\n",
       "      <td>7</td>\n",
       "      <td>9</td>\n",
       "      <td>0.778</td>\n",
       "      <td>7</td>\n",
       "      <td>9</td>\n",
       "      <td>...</td>\n",
       "      <td>5</td>\n",
       "      <td>9</td>\n",
       "      <td>14</td>\n",
       "      <td>0</td>\n",
       "      <td>0</td>\n",
       "      <td>4</td>\n",
       "      <td>1</td>\n",
       "      <td>4</td>\n",
       "      <td>15</td>\n",
       "      <td>ryan-mutombo-1</td>\n",
       "    </tr>\n",
       "    <tr>\n",
       "      <th>11</th>\n",
       "      <td>12.0</td>\n",
       "      <td>D'Ante Bass</td>\n",
       "      <td>6</td>\n",
       "      <td>0.0</td>\n",
       "      <td>24</td>\n",
       "      <td>1</td>\n",
       "      <td>3</td>\n",
       "      <td>0.333</td>\n",
       "      <td>1</td>\n",
       "      <td>3</td>\n",
       "      <td>...</td>\n",
       "      <td>2</td>\n",
       "      <td>1</td>\n",
       "      <td>3</td>\n",
       "      <td>2</td>\n",
       "      <td>1</td>\n",
       "      <td>1</td>\n",
       "      <td>0</td>\n",
       "      <td>1</td>\n",
       "      <td>2</td>\n",
       "      <td>dante-bass-1</td>\n",
       "    </tr>\n",
       "    <tr>\n",
       "      <th>12</th>\n",
       "      <td>13.0</td>\n",
       "      <td>Malcolm Wilson</td>\n",
       "      <td>6</td>\n",
       "      <td>0.0</td>\n",
       "      <td>12</td>\n",
       "      <td>0</td>\n",
       "      <td>3</td>\n",
       "      <td>0.000</td>\n",
       "      <td>0</td>\n",
       "      <td>3</td>\n",
       "      <td>...</td>\n",
       "      <td>4</td>\n",
       "      <td>2</td>\n",
       "      <td>6</td>\n",
       "      <td>0</td>\n",
       "      <td>0</td>\n",
       "      <td>0</td>\n",
       "      <td>0</td>\n",
       "      <td>3</td>\n",
       "      <td>1</td>\n",
       "      <td>malcolm-wilson-1</td>\n",
       "    </tr>\n",
       "    <tr>\n",
       "      <th>13</th>\n",
       "      <td>14.0</td>\n",
       "      <td>Victor Muresan</td>\n",
       "      <td>1</td>\n",
       "      <td>0.0</td>\n",
       "      <td>1</td>\n",
       "      <td>0</td>\n",
       "      <td>1</td>\n",
       "      <td>0.000</td>\n",
       "      <td>0</td>\n",
       "      <td>1</td>\n",
       "      <td>...</td>\n",
       "      <td>0</td>\n",
       "      <td>0</td>\n",
       "      <td>0</td>\n",
       "      <td>0</td>\n",
       "      <td>0</td>\n",
       "      <td>0</td>\n",
       "      <td>0</td>\n",
       "      <td>0</td>\n",
       "      <td>0</td>\n",
       "      <td>victor-muresan-1</td>\n",
       "    </tr>\n",
       "    <tr>\n",
       "      <th>14</th>\n",
       "      <td>NaN</td>\n",
       "      <td>School Totals</td>\n",
       "      <td>21</td>\n",
       "      <td>NaN</td>\n",
       "      <td>4250</td>\n",
       "      <td>559</td>\n",
       "      <td>1271</td>\n",
       "      <td>0.440</td>\n",
       "      <td>439</td>\n",
       "      <td>889</td>\n",
       "      <td>...</td>\n",
       "      <td>239</td>\n",
       "      <td>528</td>\n",
       "      <td>767</td>\n",
       "      <td>255</td>\n",
       "      <td>120</td>\n",
       "      <td>98</td>\n",
       "      <td>262</td>\n",
       "      <td>312</td>\n",
       "      <td>1519</td>\n",
       "      <td>-9999</td>\n",
       "    </tr>\n",
       "  </tbody>\n",
       "</table>\n",
       "<p>15 rows × 27 columns</p>\n",
       "</div>"
      ],
      "text/plain": [
       "      Rk           Player   G    GS    MP   FG   FGA    FG%   2P  2PA  ...  \\\n",
       "0    1.0     Primo Spears  21  21.0   784  134   313  0.428  120  259  ...   \n",
       "1    2.0   Brandon Murray  16  16.0   554   87   203  0.429   65  142  ...   \n",
       "2    3.0      Qudus Wahab  21  21.0   507   71   141  0.504   71  140  ...   \n",
       "3    4.0        Akok Akok  21  21.0   685   64   135  0.474   45   69  ...   \n",
       "4    5.0        Jay Heath  12  11.0   402   59   133  0.444   39   81  ...   \n",
       "5    6.0    Bryson Mozone  20   7.0   408   46   119  0.387   25   52  ...   \n",
       "6    7.0     Jordan Riley  16   5.0   270   37    78  0.474   31   59  ...   \n",
       "7    8.0    Wayne Bristol  20   3.0   286   26    58  0.448   13   23  ...   \n",
       "8    9.0  Bradley Ezewiro  16   0.0   165   19    41  0.463   19   41  ...   \n",
       "9   10.0    Denver Anglin  16   0.0   118    8    34  0.235    3    7  ...   \n",
       "10  11.0     Ryan Mutombo   7   0.0    33    7     9  0.778    7    9  ...   \n",
       "11  12.0      D'Ante Bass   6   0.0    24    1     3  0.333    1    3  ...   \n",
       "12  13.0   Malcolm Wilson   6   0.0    12    0     3  0.000    0    3  ...   \n",
       "13  14.0   Victor Muresan   1   0.0     1    0     1  0.000    0    1  ...   \n",
       "14   NaN    School Totals  21   NaN  4250  559  1271  0.440  439  889  ...   \n",
       "\n",
       "    ORB  DRB  TRB  AST  STL  BLK  TOV   PF   PTS  Player-additional  \n",
       "0    15   57   72  116   25    0   73   36   352      amir-spears-1  \n",
       "1    14   42   56   56   21    9   43   36   232   brandon-murray-1  \n",
       "2    63   92  155    5   13   16   28   52   209      qudus-wahab-1  \n",
       "3    35  110  145   23   13   41   30   41   163        akok-akok-1  \n",
       "4     6   43   49   18   13    1   16   24   161        jay-heath-1  \n",
       "5    15   57   72    9    8    4   15   30   129    bryson-mozone-1  \n",
       "6    15   32   47    6   10    5   22   19    99     jordan-riley-1  \n",
       "7    18   19   37   10   10    7   13   31    80  wayne-bristoljr-1  \n",
       "8    17   29   46    2    4   10    7   25    53  bradley-ezewiro-1  \n",
       "9     1    7    8    8    2    0    5   10    23    denver-anglin-1  \n",
       "10    5    9   14    0    0    4    1    4    15     ryan-mutombo-1  \n",
       "11    2    1    3    2    1    1    0    1     2       dante-bass-1  \n",
       "12    4    2    6    0    0    0    0    3     1   malcolm-wilson-1  \n",
       "13    0    0    0    0    0    0    0    0     0   victor-muresan-1  \n",
       "14  239  528  767  255  120   98  262  312  1519              -9999  \n",
       "\n",
       "[15 rows x 27 columns]"
      ]
     },
     "execution_count": 43,
     "metadata": {},
     "output_type": "execute_result"
    }
   ],
   "source": [
    "data"
   ]
  },
  {
   "cell_type": "code",
   "execution_count": 55,
   "id": "faf144a5",
   "metadata": {},
   "outputs": [
    {
     "data": {
      "text/html": [
       "<div>\n",
       "<style scoped>\n",
       "    .dataframe tbody tr th:only-of-type {\n",
       "        vertical-align: middle;\n",
       "    }\n",
       "\n",
       "    .dataframe tbody tr th {\n",
       "        vertical-align: top;\n",
       "    }\n",
       "\n",
       "    .dataframe thead th {\n",
       "        text-align: right;\n",
       "    }\n",
       "</style>\n",
       "<table border=\"1\" class=\"dataframe\">\n",
       "  <thead>\n",
       "    <tr style=\"text-align: right;\">\n",
       "      <th></th>\n",
       "      <th>Player</th>\n",
       "      <th>ORB</th>\n",
       "      <th>DRB</th>\n",
       "    </tr>\n",
       "  </thead>\n",
       "  <tbody>\n",
       "    <tr>\n",
       "      <th>0</th>\n",
       "      <td>Primo Spears</td>\n",
       "      <td>15</td>\n",
       "      <td>57</td>\n",
       "    </tr>\n",
       "    <tr>\n",
       "      <th>1</th>\n",
       "      <td>Brandon Murray</td>\n",
       "      <td>14</td>\n",
       "      <td>42</td>\n",
       "    </tr>\n",
       "    <tr>\n",
       "      <th>2</th>\n",
       "      <td>Qudus Wahab</td>\n",
       "      <td>63</td>\n",
       "      <td>92</td>\n",
       "    </tr>\n",
       "    <tr>\n",
       "      <th>3</th>\n",
       "      <td>Akok Akok</td>\n",
       "      <td>35</td>\n",
       "      <td>110</td>\n",
       "    </tr>\n",
       "    <tr>\n",
       "      <th>4</th>\n",
       "      <td>Jay Heath</td>\n",
       "      <td>6</td>\n",
       "      <td>43</td>\n",
       "    </tr>\n",
       "    <tr>\n",
       "      <th>5</th>\n",
       "      <td>Bryson Mozone</td>\n",
       "      <td>15</td>\n",
       "      <td>57</td>\n",
       "    </tr>\n",
       "    <tr>\n",
       "      <th>6</th>\n",
       "      <td>Jordan Riley</td>\n",
       "      <td>15</td>\n",
       "      <td>32</td>\n",
       "    </tr>\n",
       "    <tr>\n",
       "      <th>7</th>\n",
       "      <td>Wayne Bristol</td>\n",
       "      <td>18</td>\n",
       "      <td>19</td>\n",
       "    </tr>\n",
       "    <tr>\n",
       "      <th>8</th>\n",
       "      <td>Bradley Ezewiro</td>\n",
       "      <td>17</td>\n",
       "      <td>29</td>\n",
       "    </tr>\n",
       "    <tr>\n",
       "      <th>9</th>\n",
       "      <td>Denver Anglin</td>\n",
       "      <td>1</td>\n",
       "      <td>7</td>\n",
       "    </tr>\n",
       "    <tr>\n",
       "      <th>10</th>\n",
       "      <td>Ryan Mutombo</td>\n",
       "      <td>5</td>\n",
       "      <td>9</td>\n",
       "    </tr>\n",
       "    <tr>\n",
       "      <th>11</th>\n",
       "      <td>D'Ante Bass</td>\n",
       "      <td>2</td>\n",
       "      <td>1</td>\n",
       "    </tr>\n",
       "    <tr>\n",
       "      <th>12</th>\n",
       "      <td>Malcolm Wilson</td>\n",
       "      <td>4</td>\n",
       "      <td>2</td>\n",
       "    </tr>\n",
       "    <tr>\n",
       "      <th>13</th>\n",
       "      <td>Victor Muresan</td>\n",
       "      <td>0</td>\n",
       "      <td>0</td>\n",
       "    </tr>\n",
       "    <tr>\n",
       "      <th>14</th>\n",
       "      <td>School Totals</td>\n",
       "      <td>239</td>\n",
       "      <td>528</td>\n",
       "    </tr>\n",
       "  </tbody>\n",
       "</table>\n",
       "</div>"
      ],
      "text/plain": [
       "             Player  ORB  DRB\n",
       "0      Primo Spears   15   57\n",
       "1    Brandon Murray   14   42\n",
       "2       Qudus Wahab   63   92\n",
       "3         Akok Akok   35  110\n",
       "4         Jay Heath    6   43\n",
       "5     Bryson Mozone   15   57\n",
       "6      Jordan Riley   15   32\n",
       "7     Wayne Bristol   18   19\n",
       "8   Bradley Ezewiro   17   29\n",
       "9     Denver Anglin    1    7\n",
       "10     Ryan Mutombo    5    9\n",
       "11      D'Ante Bass    2    1\n",
       "12   Malcolm Wilson    4    2\n",
       "13   Victor Muresan    0    0\n",
       "14    School Totals  239  528"
      ]
     },
     "execution_count": 55,
     "metadata": {},
     "output_type": "execute_result"
    }
   ],
   "source": [
    "df7 = pd.DataFrame()\n",
    "df7['Player'] = data['Player']\n",
    "df7['ORB']=data['ORB']\n",
    "df7['DRB']=data['DRB']\n",
    "df7"
   ]
  },
  {
   "cell_type": "code",
   "execution_count": 56,
   "id": "7a2c49c3",
   "metadata": {},
   "outputs": [
    {
     "data": {
      "text/html": [
       "<div>\n",
       "<style scoped>\n",
       "    .dataframe tbody tr th:only-of-type {\n",
       "        vertical-align: middle;\n",
       "    }\n",
       "\n",
       "    .dataframe tbody tr th {\n",
       "        vertical-align: top;\n",
       "    }\n",
       "\n",
       "    .dataframe thead th {\n",
       "        text-align: right;\n",
       "    }\n",
       "</style>\n",
       "<table border=\"1\" class=\"dataframe\">\n",
       "  <thead>\n",
       "    <tr style=\"text-align: right;\">\n",
       "      <th></th>\n",
       "      <th>Player</th>\n",
       "      <th>ORB</th>\n",
       "      <th>DRB</th>\n",
       "      <th>ODRB</th>\n",
       "    </tr>\n",
       "  </thead>\n",
       "  <tbody>\n",
       "    <tr>\n",
       "      <th>0</th>\n",
       "      <td>Primo Spears</td>\n",
       "      <td>15</td>\n",
       "      <td>57</td>\n",
       "      <td>-42</td>\n",
       "    </tr>\n",
       "    <tr>\n",
       "      <th>1</th>\n",
       "      <td>Brandon Murray</td>\n",
       "      <td>14</td>\n",
       "      <td>42</td>\n",
       "      <td>-28</td>\n",
       "    </tr>\n",
       "    <tr>\n",
       "      <th>2</th>\n",
       "      <td>Qudus Wahab</td>\n",
       "      <td>63</td>\n",
       "      <td>92</td>\n",
       "      <td>-29</td>\n",
       "    </tr>\n",
       "    <tr>\n",
       "      <th>3</th>\n",
       "      <td>Akok Akok</td>\n",
       "      <td>35</td>\n",
       "      <td>110</td>\n",
       "      <td>-75</td>\n",
       "    </tr>\n",
       "    <tr>\n",
       "      <th>4</th>\n",
       "      <td>Jay Heath</td>\n",
       "      <td>6</td>\n",
       "      <td>43</td>\n",
       "      <td>-37</td>\n",
       "    </tr>\n",
       "    <tr>\n",
       "      <th>5</th>\n",
       "      <td>Bryson Mozone</td>\n",
       "      <td>15</td>\n",
       "      <td>57</td>\n",
       "      <td>-42</td>\n",
       "    </tr>\n",
       "    <tr>\n",
       "      <th>6</th>\n",
       "      <td>Jordan Riley</td>\n",
       "      <td>15</td>\n",
       "      <td>32</td>\n",
       "      <td>-17</td>\n",
       "    </tr>\n",
       "    <tr>\n",
       "      <th>7</th>\n",
       "      <td>Wayne Bristol</td>\n",
       "      <td>18</td>\n",
       "      <td>19</td>\n",
       "      <td>-1</td>\n",
       "    </tr>\n",
       "    <tr>\n",
       "      <th>8</th>\n",
       "      <td>Bradley Ezewiro</td>\n",
       "      <td>17</td>\n",
       "      <td>29</td>\n",
       "      <td>-12</td>\n",
       "    </tr>\n",
       "    <tr>\n",
       "      <th>9</th>\n",
       "      <td>Denver Anglin</td>\n",
       "      <td>1</td>\n",
       "      <td>7</td>\n",
       "      <td>-6</td>\n",
       "    </tr>\n",
       "    <tr>\n",
       "      <th>10</th>\n",
       "      <td>Ryan Mutombo</td>\n",
       "      <td>5</td>\n",
       "      <td>9</td>\n",
       "      <td>-4</td>\n",
       "    </tr>\n",
       "    <tr>\n",
       "      <th>11</th>\n",
       "      <td>D'Ante Bass</td>\n",
       "      <td>2</td>\n",
       "      <td>1</td>\n",
       "      <td>1</td>\n",
       "    </tr>\n",
       "    <tr>\n",
       "      <th>12</th>\n",
       "      <td>Malcolm Wilson</td>\n",
       "      <td>4</td>\n",
       "      <td>2</td>\n",
       "      <td>2</td>\n",
       "    </tr>\n",
       "    <tr>\n",
       "      <th>13</th>\n",
       "      <td>Victor Muresan</td>\n",
       "      <td>0</td>\n",
       "      <td>0</td>\n",
       "      <td>0</td>\n",
       "    </tr>\n",
       "    <tr>\n",
       "      <th>14</th>\n",
       "      <td>School Totals</td>\n",
       "      <td>239</td>\n",
       "      <td>528</td>\n",
       "      <td>-289</td>\n",
       "    </tr>\n",
       "  </tbody>\n",
       "</table>\n",
       "</div>"
      ],
      "text/plain": [
       "             Player  ORB  DRB  ODRB\n",
       "0      Primo Spears   15   57   -42\n",
       "1    Brandon Murray   14   42   -28\n",
       "2       Qudus Wahab   63   92   -29\n",
       "3         Akok Akok   35  110   -75\n",
       "4         Jay Heath    6   43   -37\n",
       "5     Bryson Mozone   15   57   -42\n",
       "6      Jordan Riley   15   32   -17\n",
       "7     Wayne Bristol   18   19    -1\n",
       "8   Bradley Ezewiro   17   29   -12\n",
       "9     Denver Anglin    1    7    -6\n",
       "10     Ryan Mutombo    5    9    -4\n",
       "11      D'Ante Bass    2    1     1\n",
       "12   Malcolm Wilson    4    2     2\n",
       "13   Victor Muresan    0    0     0\n",
       "14    School Totals  239  528  -289"
      ]
     },
     "execution_count": 56,
     "metadata": {},
     "output_type": "execute_result"
    }
   ],
   "source": [
    "df7['ODRB']= df7['ORB'] - df7['DRB']\n",
    "df7"
   ]
  },
  {
   "cell_type": "code",
   "execution_count": 57,
   "id": "51022f09",
   "metadata": {},
   "outputs": [],
   "source": [
    "MASK = df7['ORB'] >7"
   ]
  },
  {
   "cell_type": "code",
   "execution_count": 60,
   "id": "8638c362",
   "metadata": {},
   "outputs": [
    {
     "data": {
      "text/html": [
       "<div>\n",
       "<style scoped>\n",
       "    .dataframe tbody tr th:only-of-type {\n",
       "        vertical-align: middle;\n",
       "    }\n",
       "\n",
       "    .dataframe tbody tr th {\n",
       "        vertical-align: top;\n",
       "    }\n",
       "\n",
       "    .dataframe thead th {\n",
       "        text-align: right;\n",
       "    }\n",
       "</style>\n",
       "<table border=\"1\" class=\"dataframe\">\n",
       "  <thead>\n",
       "    <tr style=\"text-align: right;\">\n",
       "      <th></th>\n",
       "      <th>Player</th>\n",
       "      <th>ORB</th>\n",
       "      <th>DRB</th>\n",
       "      <th>ODRB</th>\n",
       "    </tr>\n",
       "  </thead>\n",
       "  <tbody>\n",
       "    <tr>\n",
       "      <th>0</th>\n",
       "      <td>Primo Spears</td>\n",
       "      <td>15</td>\n",
       "      <td>57</td>\n",
       "      <td>-42</td>\n",
       "    </tr>\n",
       "    <tr>\n",
       "      <th>1</th>\n",
       "      <td>Brandon Murray</td>\n",
       "      <td>14</td>\n",
       "      <td>42</td>\n",
       "      <td>-28</td>\n",
       "    </tr>\n",
       "    <tr>\n",
       "      <th>2</th>\n",
       "      <td>Qudus Wahab</td>\n",
       "      <td>63</td>\n",
       "      <td>92</td>\n",
       "      <td>-29</td>\n",
       "    </tr>\n",
       "    <tr>\n",
       "      <th>3</th>\n",
       "      <td>Akok Akok</td>\n",
       "      <td>35</td>\n",
       "      <td>110</td>\n",
       "      <td>-75</td>\n",
       "    </tr>\n",
       "    <tr>\n",
       "      <th>5</th>\n",
       "      <td>Bryson Mozone</td>\n",
       "      <td>15</td>\n",
       "      <td>57</td>\n",
       "      <td>-42</td>\n",
       "    </tr>\n",
       "    <tr>\n",
       "      <th>6</th>\n",
       "      <td>Jordan Riley</td>\n",
       "      <td>15</td>\n",
       "      <td>32</td>\n",
       "      <td>-17</td>\n",
       "    </tr>\n",
       "    <tr>\n",
       "      <th>7</th>\n",
       "      <td>Wayne Bristol</td>\n",
       "      <td>18</td>\n",
       "      <td>19</td>\n",
       "      <td>-1</td>\n",
       "    </tr>\n",
       "    <tr>\n",
       "      <th>8</th>\n",
       "      <td>Bradley Ezewiro</td>\n",
       "      <td>17</td>\n",
       "      <td>29</td>\n",
       "      <td>-12</td>\n",
       "    </tr>\n",
       "    <tr>\n",
       "      <th>14</th>\n",
       "      <td>School Totals</td>\n",
       "      <td>239</td>\n",
       "      <td>528</td>\n",
       "      <td>-289</td>\n",
       "    </tr>\n",
       "  </tbody>\n",
       "</table>\n",
       "</div>"
      ],
      "text/plain": [
       "             Player  ORB  DRB  ODRB\n",
       "0      Primo Spears   15   57   -42\n",
       "1    Brandon Murray   14   42   -28\n",
       "2       Qudus Wahab   63   92   -29\n",
       "3         Akok Akok   35  110   -75\n",
       "5     Bryson Mozone   15   57   -42\n",
       "6      Jordan Riley   15   32   -17\n",
       "7     Wayne Bristol   18   19    -1\n",
       "8   Bradley Ezewiro   17   29   -12\n",
       "14    School Totals  239  528  -289"
      ]
     },
     "execution_count": 60,
     "metadata": {},
     "output_type": "execute_result"
    }
   ],
   "source": [
    "df7[MASK]"
   ]
  },
  {
   "cell_type": "code",
   "execution_count": 61,
   "id": "e0bd0956",
   "metadata": {},
   "outputs": [
    {
     "data": {
      "text/plain": [
       "0      True\n",
       "1      True\n",
       "2      True\n",
       "3      True\n",
       "4     False\n",
       "5      True\n",
       "6      True\n",
       "7      True\n",
       "8      True\n",
       "9     False\n",
       "10    False\n",
       "11    False\n",
       "12    False\n",
       "13    False\n",
       "14     True\n",
       "Name: ORB, dtype: bool"
      ]
     },
     "execution_count": 61,
     "metadata": {},
     "output_type": "execute_result"
    }
   ],
   "source": [
    "MASK"
   ]
  },
  {
   "cell_type": "markdown",
   "id": "8b2d938e",
   "metadata": {},
   "source": [
    "# 'Matrixish' Math"
   ]
  },
  {
   "cell_type": "code",
   "execution_count": null,
   "id": "3c2b23e3",
   "metadata": {},
   "outputs": [],
   "source": [
    "df1 = pd.DataFrame([[4, 7, 10],\n",
    "                    [5, 8, 11],\n",
    "                    [6, 9, 12],\n",
    "                    [50,60,4],\n",
    "                    [42,14,88]],\n",
    "                   index=[1, 2, 3, 4, 5], \n",
    "                   columns=['a', 'b', 'c'])\n",
    "\n",
    "\n",
    "df2 = pd.DataFrame([[6, 7, 30],[45, 6, 6],[29, 35, 13],[50,60,5],[42,14,88]],index=[1, 2, 3, 4, 5], columns=['a', 'b', 'c'])"
   ]
  },
  {
   "cell_type": "code",
   "execution_count": null,
   "id": "6581e50a",
   "metadata": {},
   "outputs": [],
   "source": [
    "df1"
   ]
  },
  {
   "cell_type": "code",
   "execution_count": null,
   "id": "48d948b3",
   "metadata": {},
   "outputs": [],
   "source": [
    "df2"
   ]
  },
  {
   "cell_type": "code",
   "execution_count": null,
   "id": "7c7b11cf",
   "metadata": {},
   "outputs": [],
   "source": [
    "df1*df2"
   ]
  },
  {
   "cell_type": "code",
   "execution_count": null,
   "id": "20245317",
   "metadata": {},
   "outputs": [],
   "source": [
    "df1+df2"
   ]
  },
  {
   "cell_type": "markdown",
   "id": "ef531087",
   "metadata": {},
   "source": [
    "# 'Numpy'"
   ]
  },
  {
   "cell_type": "code",
   "execution_count": null,
   "id": "e282659b",
   "metadata": {},
   "outputs": [],
   "source": []
  },
  {
   "cell_type": "markdown",
   "id": "515bb786",
   "metadata": {},
   "source": [
    " - Used for Linear Algebra, Matrix Multiplication, ect."
   ]
  },
  {
   "cell_type": "code",
   "execution_count": null,
   "id": "0f112f50",
   "metadata": {},
   "outputs": [],
   "source": [
    "Df1 = np.array(df1)\n",
    "Df2 = np.array(df2)"
   ]
  },
  {
   "cell_type": "code",
   "execution_count": null,
   "id": "67f481df",
   "metadata": {},
   "outputs": [],
   "source": [
    "# np.matmul(Df1,Df2)"
   ]
  },
  {
   "cell_type": "code",
   "execution_count": null,
   "id": "6a2d97e6",
   "metadata": {},
   "outputs": [],
   "source": [
    "Df1 = Df1.transpose()"
   ]
  },
  {
   "cell_type": "code",
   "execution_count": null,
   "id": "0fe40d90",
   "metadata": {},
   "outputs": [],
   "source": [
    "np.matmul(Df2,Df1)"
   ]
  },
  {
   "cell_type": "code",
   "execution_count": null,
   "id": "f1bbf355",
   "metadata": {},
   "outputs": [],
   "source": [
    "np.dot(Df1,Df2)"
   ]
  },
  {
   "cell_type": "code",
   "execution_count": null,
   "id": "db731df2",
   "metadata": {},
   "outputs": [],
   "source": [
    "Df1 = Df1.transpose()"
   ]
  },
  {
   "cell_type": "code",
   "execution_count": null,
   "id": "b2249c88",
   "metadata": {},
   "outputs": [],
   "source": [
    "np.cross(Df1,Df2)"
   ]
  },
  {
   "cell_type": "markdown",
   "id": "ede06eb0",
   "metadata": {},
   "source": [
    "# Important Functions to Know"
   ]
  },
  {
   "cell_type": "code",
   "execution_count": null,
   "id": "666aac80",
   "metadata": {},
   "outputs": [],
   "source": [
    "#length\n",
    "len(df1)"
   ]
  },
  {
   "cell_type": "code",
   "execution_count": null,
   "id": "f2836f1f",
   "metadata": {},
   "outputs": [],
   "source": [
    "df1"
   ]
  },
  {
   "cell_type": "code",
   "execution_count": null,
   "id": "3205517d",
   "metadata": {},
   "outputs": [],
   "source": [
    "y = [2,5,6,7,3,2,5,6,7,4,75,4,5,5,6565,65656,5334788,444,1]"
   ]
  },
  {
   "cell_type": "code",
   "execution_count": null,
   "id": "7152c0a2",
   "metadata": {},
   "outputs": [],
   "source": [
    "len(y)"
   ]
  },
  {
   "cell_type": "code",
   "execution_count": null,
   "id": "10d19cd3",
   "metadata": {},
   "outputs": [],
   "source": [
    "#range(start,stop, step)\n",
    "x = range(3, 20, 2)\n",
    "x"
   ]
  },
  {
   "cell_type": "markdown",
   "id": "7e6b8ca0",
   "metadata": {},
   "source": [
    "# Loops"
   ]
  },
  {
   "cell_type": "markdown",
   "id": "b4f9114e",
   "metadata": {},
   "source": [
    "## For Loops"
   ]
  },
  {
   "cell_type": "code",
   "execution_count": null,
   "id": "d13dc69b",
   "metadata": {},
   "outputs": [],
   "source": [
    "for i in range(len(y)):\n",
    "    print(i)"
   ]
  },
  {
   "cell_type": "code",
   "execution_count": null,
   "id": "fbb8a2bd",
   "metadata": {},
   "outputs": [],
   "source": [
    "for i in range(len(y)):\n",
    "    print(y[i])"
   ]
  },
  {
   "cell_type": "markdown",
   "id": "5a6fdc58",
   "metadata": {},
   "source": [
    "# While Loop"
   ]
  },
  {
   "cell_type": "code",
   "execution_count": null,
   "id": "c0a541d0",
   "metadata": {},
   "outputs": [],
   "source": [
    " i = 1\n",
    " while i <6:\n",
    "   print(i)\n",
    "   i += 1"
   ]
  },
  {
   "cell_type": "code",
   "execution_count": null,
   "id": "64a7bd4c",
   "metadata": {},
   "outputs": [],
   "source": [
    "#i = 1\n",
    "#while i <5000000:\n",
    "  #  print(i)\n",
    "   # i += 0.1"
   ]
  },
  {
   "cell_type": "markdown",
   "id": "f2590f1d",
   "metadata": {},
   "source": [
    "Infinite Loop - Dont Run!"
   ]
  },
  {
   "cell_type": "code",
   "execution_count": null,
   "id": "8918d091",
   "metadata": {},
   "outputs": [],
   "source": [
    " #i = 1\n",
    " #while i <2:\n",
    "   #print(i)"
   ]
  },
  {
   "cell_type": "markdown",
   "id": "e3469ea8",
   "metadata": {},
   "source": [
    "# Functions"
   ]
  },
  {
   "cell_type": "code",
   "execution_count": null,
   "id": "0c7e67d6",
   "metadata": {},
   "outputs": [],
   "source": [
    "for i in range(len(x)):\n",
    "    print(x[i])"
   ]
  },
  {
   "cell_type": "code",
   "execution_count": null,
   "id": "bb33d3b6",
   "metadata": {},
   "outputs": [],
   "source": [
    "y=[]\n",
    "for i in range(len(x)):\n",
    "    y.append(i + 17)\n",
    "\n",
    "y\n",
    "\n"
   ]
  },
  {
   "cell_type": "code",
   "execution_count": null,
   "id": "1b368e29",
   "metadata": {},
   "outputs": [],
   "source": [
    "y=[]\n",
    "for i in range(len(x)):\n",
    "    y.append(x[i] + 17)   \n",
    "y\n"
   ]
  },
  {
   "cell_type": "code",
   "execution_count": null,
   "id": "c19bb2b1",
   "metadata": {},
   "outputs": [],
   "source": [
    "# Basic Function\n",
    "z=[]\n",
    "def mathify(r,p):\n",
    "    for x in r:\n",
    "        if x >= 24:\n",
    "            p.append(x-6)\n",
    "        elif x <= 20:\n",
    "            p.append(x + 25)\n",
    "        else:\n",
    "            p.append(x)\n",
    "    return print(p)\n",
    "\n",
    "mathify(y,z)"
   ]
  },
  {
   "cell_type": "code",
   "execution_count": null,
   "id": "4e5e91f9",
   "metadata": {},
   "outputs": [],
   "source": []
  }
 ],
 "metadata": {
  "kernelspec": {
   "display_name": "Python 3 (ipykernel)",
   "language": "python",
   "name": "python3"
  },
  "language_info": {
   "codemirror_mode": {
    "name": "ipython",
    "version": 3
   },
   "file_extension": ".py",
   "mimetype": "text/x-python",
   "name": "python",
   "nbconvert_exporter": "python",
   "pygments_lexer": "ipython3",
   "version": "3.9.12"
  }
 },
 "nbformat": 4,
 "nbformat_minor": 5
}
