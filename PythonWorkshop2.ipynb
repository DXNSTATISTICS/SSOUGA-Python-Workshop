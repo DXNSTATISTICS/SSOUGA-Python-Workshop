{
 "cells": [
  {
   "cell_type": "code",
   "execution_count": null,
   "id": "8a035147",
   "metadata": {},
   "outputs": [],
   "source": [
    "import pandas as pd\n",
    "import numpy as np\n",
    "import os as os"
   ]
  },
  {
   "cell_type": "code",
   "execution_count": null,
   "id": "9b829ba9",
   "metadata": {},
   "outputs": [],
   "source": [
    "os.getcwd()"
   ]
  },
  {
   "cell_type": "code",
   "execution_count": null,
   "id": "b9e77a1e",
   "metadata": {},
   "outputs": [],
   "source": [
    "os.chdir('/Users/dixons/Desktop/Spring 2023/Python Workshop')"
   ]
  },
  {
   "cell_type": "code",
   "execution_count": null,
   "id": "b5f63312",
   "metadata": {},
   "outputs": [],
   "source": [
    "#data = pd.read_csv('/Users/dixons/Desktop/Spring 2023/Python Workshop/ReferenceBasketball.csv')\n",
    "\n",
    "data = pd.read_csv('ReferenceBasketball.csv')\n",
    "\n",
    "data"
   ]
  },
  {
   "cell_type": "code",
   "execution_count": null,
   "id": "7e796479",
   "metadata": {},
   "outputs": [],
   "source": [
    "print(data)"
   ]
  },
  {
   "cell_type": "markdown",
   "id": "a3759fb9",
   "metadata": {},
   "source": [
    "------------------"
   ]
  },
  {
   "cell_type": "markdown",
   "id": "e77fbf58",
   "metadata": {},
   "source": [
    "**IMPORTANT SIDE NOTE**\n",
    "\n",
    "I googled \"view entire dataframe pandas\" and found this function on:  **Stack Overflow**"
   ]
  },
  {
   "cell_type": "markdown",
   "id": "c162e0a8",
   "metadata": {},
   "source": [
    "---------------------"
   ]
  },
  {
   "cell_type": "code",
   "execution_count": null,
   "id": "9715ced5",
   "metadata": {},
   "outputs": [],
   "source": [
    " # more options can be specified also\n",
    "    \n",
    "with pd.option_context('display.max_rows', None, 'display.max_columns', None): \n",
    "    print(data)"
   ]
  },
  {
   "cell_type": "markdown",
   "id": "c1720201",
   "metadata": {},
   "source": [
    "# 1. The pd.DataFrame() Function"
   ]
  },
  {
   "cell_type": "code",
   "execution_count": null,
   "id": "a086dede",
   "metadata": {},
   "outputs": [],
   "source": [
    "type(data)"
   ]
  },
  {
   "cell_type": "code",
   "execution_count": null,
   "id": "15a62f32",
   "metadata": {},
   "outputs": [],
   "source": [
    "df = pd.DataFrame({'A': [1, 2, 3],\n",
    "                  'B': [4,5,6],\n",
    "                  'C': [7,8,9]})\n",
    "print(df)"
   ]
  },
  {
   "cell_type": "code",
   "execution_count": null,
   "id": "38133dc1",
   "metadata": {},
   "outputs": [],
   "source": [
    "df"
   ]
  },
  {
   "cell_type": "code",
   "execution_count": null,
   "id": "0e781eb2",
   "metadata": {},
   "outputs": [],
   "source": [
    "df['A']"
   ]
  },
  {
   "cell_type": "code",
   "execution_count": null,
   "id": "1a551d8c",
   "metadata": {},
   "outputs": [],
   "source": [
    "type(df['A'])"
   ]
  },
  {
   "cell_type": "code",
   "execution_count": null,
   "id": "81e14b6d",
   "metadata": {},
   "outputs": [],
   "source": [
    "df = pd.DataFrame(\n",
    "[[4, 7, 10],\n",
    "[5, 8, 11],\n",
    "[6, 9, 12]],\n",
    "index=['a', 2, 3],\n",
    "columns=['a', 'b', 'c'])\n",
    "df"
   ]
  },
  {
   "cell_type": "code",
   "execution_count": null,
   "id": "a3574b2e",
   "metadata": {},
   "outputs": [],
   "source": [
    "df[['a','b']]"
   ]
  },
  {
   "cell_type": "code",
   "execution_count": null,
   "id": "ad6f0b6e",
   "metadata": {},
   "outputs": [],
   "source": []
  },
  {
   "cell_type": "markdown",
   "id": "3fc94920",
   "metadata": {},
   "source": [
    "## Locating Rows"
   ]
  },
  {
   "cell_type": "markdown",
   "id": "425a6c06",
   "metadata": {},
   "source": [
    "### By Index"
   ]
  },
  {
   "cell_type": "code",
   "execution_count": null,
   "id": "8b1498b0",
   "metadata": {},
   "outputs": [],
   "source": [
    "df.iloc[0]"
   ]
  },
  {
   "cell_type": "markdown",
   "id": "0371dab7",
   "metadata": {},
   "source": [
    "### By Label"
   ]
  },
  {
   "cell_type": "code",
   "execution_count": null,
   "id": "c130f652",
   "metadata": {},
   "outputs": [],
   "source": [
    "#df.iloc['a']\n",
    "df.loc['a']"
   ]
  },
  {
   "cell_type": "code",
   "execution_count": null,
   "id": "23cc4da8",
   "metadata": {},
   "outputs": [],
   "source": [
    "data"
   ]
  },
  {
   "cell_type": "markdown",
   "id": "7a361253",
   "metadata": {},
   "source": [
    "# Pandas Methods"
   ]
  },
  {
   "cell_type": "code",
   "execution_count": null,
   "id": "4c231ef5",
   "metadata": {},
   "outputs": [],
   "source": [
    "df"
   ]
  },
  {
   "cell_type": "code",
   "execution_count": null,
   "id": "d137e811",
   "metadata": {},
   "outputs": [],
   "source": [
    "df['a'].mean()"
   ]
  },
  {
   "cell_type": "code",
   "execution_count": null,
   "id": "f8e9a951",
   "metadata": {},
   "outputs": [],
   "source": [
    "df.loc['a'].mean()"
   ]
  },
  {
   "cell_type": "code",
   "execution_count": null,
   "id": "844d36fa",
   "metadata": {},
   "outputs": [],
   "source": [
    "df['a'].std()\n"
   ]
  },
  {
   "cell_type": "code",
   "execution_count": null,
   "id": "fc787d2b",
   "metadata": {},
   "outputs": [],
   "source": [
    "df['a'].sum()"
   ]
  },
  {
   "cell_type": "code",
   "execution_count": null,
   "id": "db1d356f",
   "metadata": {},
   "outputs": [],
   "source": [
    "df.sum()"
   ]
  },
  {
   "cell_type": "code",
   "execution_count": null,
   "id": "297eb75a",
   "metadata": {},
   "outputs": [],
   "source": [
    "df.sum().mean()"
   ]
  },
  {
   "cell_type": "code",
   "execution_count": null,
   "id": "ffa6a111",
   "metadata": {},
   "outputs": [],
   "source": [
    "df.mean().sum()"
   ]
  },
  {
   "cell_type": "code",
   "execution_count": null,
   "id": "8dd26417",
   "metadata": {},
   "outputs": [],
   "source": [
    "data.isnull().sum()"
   ]
  },
  {
   "cell_type": "code",
   "execution_count": null,
   "id": "c0002488",
   "metadata": {},
   "outputs": [],
   "source": [
    "data1 = data\n",
    "data = data.dropna()"
   ]
  },
  {
   "cell_type": "code",
   "execution_count": null,
   "id": "d385c307",
   "metadata": {},
   "outputs": [],
   "source": [
    "data.isnull().sum()"
   ]
  },
  {
   "cell_type": "code",
   "execution_count": null,
   "id": "ed707eb7",
   "metadata": {},
   "outputs": [],
   "source": [
    "data"
   ]
  },
  {
   "cell_type": "code",
   "execution_count": null,
   "id": "c6163cfc",
   "metadata": {},
   "outputs": [],
   "source": [
    "data1 = data1.fillna('ORANGE')"
   ]
  },
  {
   "cell_type": "code",
   "execution_count": null,
   "id": "4c7c3717",
   "metadata": {},
   "outputs": [],
   "source": [
    "data1"
   ]
  },
  {
   "cell_type": "markdown",
   "id": "8b2d938e",
   "metadata": {},
   "source": [
    "# 'Matrixish' Math"
   ]
  },
  {
   "cell_type": "code",
   "execution_count": null,
   "id": "3c2b23e3",
   "metadata": {},
   "outputs": [],
   "source": [
    "df1 = pd.DataFrame([[4, 7, 10],\n",
    "                    [5, 8, 11],\n",
    "                    [6, 9, 12],\n",
    "                    [50,60,4],\n",
    "                    [42,14,88]],\n",
    "                   index=[1, 2, 3, 4, 5], \n",
    "                   columns=['a', 'b', 'c'])\n",
    "\n",
    "\n",
    "df2 = pd.DataFrame([[6, 7, 30],[45, 6, 6],[29, 35, 13],[50,60,5],[42,14,88]],index=[1, 2, 3, 4, 5], columns=['a', 'b', 'c'])"
   ]
  },
  {
   "cell_type": "code",
   "execution_count": null,
   "id": "6581e50a",
   "metadata": {},
   "outputs": [],
   "source": [
    "df1"
   ]
  },
  {
   "cell_type": "code",
   "execution_count": null,
   "id": "48d948b3",
   "metadata": {},
   "outputs": [],
   "source": [
    "df2"
   ]
  },
  {
   "cell_type": "code",
   "execution_count": null,
   "id": "7c7b11cf",
   "metadata": {},
   "outputs": [],
   "source": [
    "df1*df2"
   ]
  },
  {
   "cell_type": "code",
   "execution_count": null,
   "id": "20245317",
   "metadata": {},
   "outputs": [],
   "source": [
    "df1+df2"
   ]
  },
  {
   "cell_type": "markdown",
   "id": "ef531087",
   "metadata": {},
   "source": [
    "# 'Numpy'"
   ]
  },
  {
   "cell_type": "code",
   "execution_count": null,
   "id": "e282659b",
   "metadata": {},
   "outputs": [],
   "source": []
  },
  {
   "cell_type": "markdown",
   "id": "515bb786",
   "metadata": {},
   "source": [
    " - Used for Linear Algebra, Matrix Multiplication, ect."
   ]
  },
  {
   "cell_type": "code",
   "execution_count": null,
   "id": "0f112f50",
   "metadata": {},
   "outputs": [],
   "source": [
    "Df1 = np.array(df1)\n",
    "Df2 = np.array(df2)"
   ]
  },
  {
   "cell_type": "code",
   "execution_count": null,
   "id": "67f481df",
   "metadata": {},
   "outputs": [],
   "source": [
    "# np.matmul(Df1,Df2)"
   ]
  },
  {
   "cell_type": "code",
   "execution_count": null,
   "id": "6a2d97e6",
   "metadata": {},
   "outputs": [],
   "source": [
    "Df1 = Df1.transpose()"
   ]
  },
  {
   "cell_type": "code",
   "execution_count": null,
   "id": "0fe40d90",
   "metadata": {},
   "outputs": [],
   "source": [
    "np.matmul(Df2,Df1)"
   ]
  },
  {
   "cell_type": "code",
   "execution_count": null,
   "id": "f1bbf355",
   "metadata": {},
   "outputs": [],
   "source": [
    "np.dot(Df1,Df2)"
   ]
  },
  {
   "cell_type": "code",
   "execution_count": null,
   "id": "db731df2",
   "metadata": {},
   "outputs": [],
   "source": [
    "Df1 = Df1.transpose()"
   ]
  },
  {
   "cell_type": "code",
   "execution_count": null,
   "id": "b2249c88",
   "metadata": {},
   "outputs": [],
   "source": [
    "np.cross(Df1,Df2)"
   ]
  },
  {
   "cell_type": "markdown",
   "id": "ede06eb0",
   "metadata": {},
   "source": [
    "# Important Functions to Know"
   ]
  },
  {
   "cell_type": "code",
   "execution_count": null,
   "id": "666aac80",
   "metadata": {},
   "outputs": [],
   "source": [
    "#length\n",
    "len(df1)"
   ]
  },
  {
   "cell_type": "code",
   "execution_count": null,
   "id": "f2836f1f",
   "metadata": {},
   "outputs": [],
   "source": [
    "df1"
   ]
  },
  {
   "cell_type": "code",
   "execution_count": null,
   "id": "3205517d",
   "metadata": {},
   "outputs": [],
   "source": [
    "y = [2,5,6,7,3,2,5,6,7,4,75,4,5,5,6565,65656,5334788,444,1]"
   ]
  },
  {
   "cell_type": "code",
   "execution_count": null,
   "id": "7152c0a2",
   "metadata": {},
   "outputs": [],
   "source": [
    "len(y)"
   ]
  },
  {
   "cell_type": "code",
   "execution_count": null,
   "id": "10d19cd3",
   "metadata": {},
   "outputs": [],
   "source": [
    "#range(start,stop, step)\n",
    "x = range(3, 20, 2)\n",
    "x"
   ]
  },
  {
   "cell_type": "markdown",
   "id": "7e6b8ca0",
   "metadata": {},
   "source": [
    "# Loops"
   ]
  },
  {
   "cell_type": "markdown",
   "id": "b4f9114e",
   "metadata": {},
   "source": [
    "## For Loops"
   ]
  },
  {
   "cell_type": "code",
   "execution_count": null,
   "id": "d13dc69b",
   "metadata": {},
   "outputs": [],
   "source": [
    "for i in range(len(y)):\n",
    "    print(i)"
   ]
  },
  {
   "cell_type": "code",
   "execution_count": null,
   "id": "fbb8a2bd",
   "metadata": {},
   "outputs": [],
   "source": [
    "for i in range(len(y)):\n",
    "    print(y[i])"
   ]
  },
  {
   "cell_type": "markdown",
   "id": "5a6fdc58",
   "metadata": {},
   "source": [
    "# While Loop"
   ]
  },
  {
   "cell_type": "code",
   "execution_count": null,
   "id": "c0a541d0",
   "metadata": {},
   "outputs": [],
   "source": [
    " i = 1\n",
    " while i <6:\n",
    "   print(i)\n",
    "   i += 1"
   ]
  },
  {
   "cell_type": "code",
   "execution_count": null,
   "id": "64a7bd4c",
   "metadata": {},
   "outputs": [],
   "source": [
    "#i = 1\n",
    "#while i <5000000:\n",
    "  #  print(i)\n",
    "   # i += 0.1"
   ]
  },
  {
   "cell_type": "markdown",
   "id": "f2590f1d",
   "metadata": {},
   "source": [
    "Infinite Loop - Dont Run!"
   ]
  },
  {
   "cell_type": "code",
   "execution_count": null,
   "id": "8918d091",
   "metadata": {},
   "outputs": [],
   "source": [
    " #i = 1\n",
    " #while i <2:\n",
    "   #print(i)"
   ]
  },
  {
   "cell_type": "markdown",
   "id": "e3469ea8",
   "metadata": {},
   "source": [
    "# Functions"
   ]
  },
  {
   "cell_type": "code",
   "execution_count": null,
   "id": "0c7e67d6",
   "metadata": {},
   "outputs": [],
   "source": [
    "for i in range(len(x)):\n",
    "    print(x[i])"
   ]
  },
  {
   "cell_type": "code",
   "execution_count": null,
   "id": "bb33d3b6",
   "metadata": {},
   "outputs": [],
   "source": [
    "y=[]\n",
    "for i in range(len(x)):\n",
    "    y.append(i + 17)\n",
    "\n",
    "y\n",
    "\n"
   ]
  },
  {
   "cell_type": "code",
   "execution_count": null,
   "id": "1b368e29",
   "metadata": {},
   "outputs": [],
   "source": [
    "y=[]\n",
    "for i in range(len(x)):\n",
    "    y.append(x[i] + 17)   \n",
    "y\n"
   ]
  },
  {
   "cell_type": "code",
   "execution_count": null,
   "id": "c19bb2b1",
   "metadata": {},
   "outputs": [],
   "source": [
    "# Basic Function\n",
    "z=[]\n",
    "def mathify(r,p):\n",
    "    for x in r:\n",
    "        if x >= 24:\n",
    "            p.append(x-6)\n",
    "        elif x <= 20:\n",
    "            p.append(x + 25)\n",
    "        else:\n",
    "            p.append(x)\n",
    "    return print(p)\n",
    "\n",
    "mathify(y,z)"
   ]
  },
  {
   "cell_type": "code",
   "execution_count": null,
   "id": "4e5e91f9",
   "metadata": {},
   "outputs": [],
   "source": []
  }
 ],
 "metadata": {
  "kernelspec": {
   "display_name": "Python 3 (ipykernel)",
   "language": "python",
   "name": "python3"
  },
  "language_info": {
   "codemirror_mode": {
    "name": "ipython",
    "version": 3
   },
   "file_extension": ".py",
   "mimetype": "text/x-python",
   "name": "python",
   "nbconvert_exporter": "python",
   "pygments_lexer": "ipython3",
   "version": "3.9.12"
  }
 },
 "nbformat": 4,
 "nbformat_minor": 5
}
